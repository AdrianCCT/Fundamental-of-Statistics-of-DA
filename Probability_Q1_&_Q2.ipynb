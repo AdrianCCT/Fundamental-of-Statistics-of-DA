{
  "nbformat": 4,
  "nbformat_minor": 0,
  "metadata": {
    "colab": {
      "provenance": [],
      "authorship_tag": "ABX9TyN+x7pj+TG+urWTActB0Ev6",
      "include_colab_link": true
    },
    "kernelspec": {
      "name": "python3",
      "display_name": "Python 3"
    },
    "language_info": {
      "name": "python"
    }
  },
  "cells": [
    {
      "cell_type": "markdown",
      "metadata": {
        "id": "view-in-github",
        "colab_type": "text"
      },
      "source": [
        "<a href=\"https://colab.research.google.com/github/AdrianCCT/Fundamental-of-Statistics-of-DA/blob/main/Probability_Q1_%26_Q2.ipynb\" target=\"_parent\"><img src=\"https://colab.research.google.com/assets/colab-badge.svg\" alt=\"Open In Colab\"/></a>"
      ]
    },
    {
      "cell_type": "markdown",
      "source": [
        "# Question 1"
      ],
      "metadata": {
        "id": "K2wn6cL2XtU7"
      }
    },
    {
      "cell_type": "code",
      "source": [
        "p= 0.04\n",
        "#1 is average number of properties wihtout acess to fresh water\n",
        "# n*p=1"
      ],
      "metadata": {
        "id": "kLlUXTB4X6wb"
      },
      "execution_count": 3,
      "outputs": []
    },
    {
      "cell_type": "code",
      "source": [
        "n=1/p\n",
        "n"
      ],
      "metadata": {
        "colab": {
          "base_uri": "https://localhost:8080/"
        },
        "id": "7RvGXw7pYcjZ",
        "outputId": "c6ad9ff9-1bab-4bf8-9177-df397212f5ac"
      },
      "execution_count": 5,
      "outputs": [
        {
          "output_type": "execute_result",
          "data": {
            "text/plain": [
              "25.0"
            ]
          },
          "metadata": {},
          "execution_count": 5
        }
      ]
    },
    {
      "cell_type": "markdown",
      "source": [
        "Answer is 25"
      ],
      "metadata": {
        "id": "uaVTFHZUY9cu"
      }
    },
    {
      "cell_type": "code",
      "source": [],
      "metadata": {
        "id": "lC8tG1YXZCca"
      },
      "execution_count": null,
      "outputs": []
    },
    {
      "cell_type": "markdown",
      "source": [
        "# Question 2"
      ],
      "metadata": {
        "id": "squcV9gsZFHq"
      }
    },
    {
      "cell_type": "code",
      "source": [
        "from scipy.stats import norm, binom"
      ],
      "metadata": {
        "id": "x8n7xnQVZGxy"
      },
      "execution_count": 10,
      "outputs": []
    },
    {
      "cell_type": "code",
      "source": [
        "#p = probability of P(X>11)\n",
        "mean= 10.5\n",
        "std_dev= 2\n",
        "X = 11"
      ],
      "metadata": {
        "id": "sLh1doQZZTR-"
      },
      "execution_count": 11,
      "outputs": []
    },
    {
      "cell_type": "code",
      "source": [
        "p= norm.sf(X,mean,std_dev)\n",
        "p"
      ],
      "metadata": {
        "colab": {
          "base_uri": "https://localhost:8080/"
        },
        "id": "AKKBoZ35ZrXf",
        "outputId": "9027b7c2-4640-445f-d681-4de025521067"
      },
      "execution_count": 12,
      "outputs": [
        {
          "output_type": "execute_result",
          "data": {
            "text/plain": [
              "0.4012936743170763"
            ]
          },
          "metadata": {},
          "execution_count": 12
        }
      ]
    },
    {
      "cell_type": "code",
      "source": [
        "# now we can calcualte the Probability that Exactly 2 out of 4 Years Have Withdrawals Greater than 11 bcm:"
      ],
      "metadata": {
        "id": "40dd2gKNaM6q"
      },
      "execution_count": 13,
      "outputs": []
    },
    {
      "cell_type": "code",
      "source": [
        "# totla number of years is 4\n",
        "n=4\n",
        "# we want to find probability for 2 year out of 4\n",
        "k=2\n",
        "# we have already calcuated proabability for p=P(X>11)=0.4012936743170763\n"
      ],
      "metadata": {
        "id": "qItv8oEkahQu"
      },
      "execution_count": 28,
      "outputs": []
    },
    {
      "cell_type": "code",
      "source": [
        "P2Yof4Y=binom.pmf(k,n,p)\n",
        "P2Yof4Y"
      ],
      "metadata": {
        "colab": {
          "base_uri": "https://localhost:8080/"
        },
        "id": "06eL0L9abIX1",
        "outputId": "2ca2b833-f442-4151-f586-19de8ac29962"
      },
      "execution_count": 22,
      "outputs": [
        {
          "output_type": "execute_result",
          "data": {
            "text/plain": [
              "0.34634073294108836"
            ]
          },
          "metadata": {},
          "execution_count": 22
        }
      ]
    },
    {
      "cell_type": "code",
      "source": [
        "r=100*round(P2Yof4Y, 4)\n",
        "percentage=f\"{r}%\"\n",
        "percentage"
      ],
      "metadata": {
        "colab": {
          "base_uri": "https://localhost:8080/",
          "height": 35
        },
        "id": "xkqvJXLQdCb-",
        "outputId": "2705c015-8473-4f04-c74e-b8a9ac3090ad"
      },
      "execution_count": 27,
      "outputs": [
        {
          "output_type": "execute_result",
          "data": {
            "text/plain": [
              "'34.63%'"
            ],
            "application/vnd.google.colaboratory.intrinsic+json": {
              "type": "string"
            }
          },
          "metadata": {},
          "execution_count": 27
        }
      ]
    },
    {
      "cell_type": "markdown",
      "source": [
        "Probability that in  2 out of 4 years withdrawal was greater than 11 bcm is approx. 34.63%."
      ],
      "metadata": {
        "id": "vj51Ueoid_Vh"
      }
    }
  ]
}